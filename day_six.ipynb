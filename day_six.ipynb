{
 "cells": [
  {
   "cell_type": "code",
   "execution_count": 14,
   "metadata": {},
   "outputs": [],
   "source": [
    "# Day Six\n",
    "file = open('day_six_input.txt', 'r')\n",
    "content = file.read().split('\\n')\n",
    "matrix = list(map(list, content))\n",
    "file.close() "
   ]
  },
  {
   "cell_type": "code",
   "execution_count": 15,
   "metadata": {},
   "outputs": [],
   "source": [
    "# Tracks cells that have been visited\n",
    "visited = [[0 for _ in range(len(matrix[0]))] for _ in range(len(matrix))]\n",
    "\n",
    "# Starting coordinates\n",
    "sy, sx = -1, -1\n",
    "for i, row in enumerate(matrix):\n",
    "    if '^' in row:\n",
    "        sy, sx = i, row.index('^')"
   ]
  },
  {
   "cell_type": "code",
   "execution_count": 16,
   "metadata": {},
   "outputs": [],
   "source": [
    "def direction():\n",
    "    '''\n",
    "    Direction generator\n",
    "    Turns 90 degrees when yielded\n",
    "    '''\n",
    "    directions = [\n",
    "        (-1, 0),\n",
    "        (0, 1),\n",
    "        (1, 0),\n",
    "        (0, -1)\n",
    "    ]\n",
    "    i = 0\n",
    "    while True:\n",
    "        yield directions[i]\n",
    "        i += 1\n",
    "        if i == len(directions):\n",
    "            i = 0"
   ]
  },
  {
   "cell_type": "code",
   "execution_count": 21,
   "metadata": {},
   "outputs": [
    {
     "data": {
      "text/plain": [
       "5239"
      ]
     },
     "execution_count": 21,
     "metadata": {},
     "output_type": "execute_result"
    }
   ],
   "source": [
    "gen = direction()\n",
    "dy, dx = next(gen)\n",
    "y, x = sy, sx\n",
    "while True:\n",
    "    # Check if we have exited the map\n",
    "    if (y < 0) or (x < 0) or (y >= len(matrix)) or (x >= len(matrix[0])):\n",
    "        break\n",
    "    # Visit durrent node\n",
    "    visited[y][x] = 1\n",
    "    # Check if next node if a block, if so change direction\n",
    "    if matrix[y + dy][x + dx] == '#':\n",
    "        dy, dx = next(gen)\n",
    "    # Move in direction\n",
    "    y += dy\n",
    "    x += dx\n",
    "sum([sum(r) for r in visited])"
   ]
  },
  {
   "cell_type": "code",
   "execution_count": 30,
   "metadata": {},
   "outputs": [],
   "source": [
    "import copy\n",
    "\n",
    "def add_form_loop(y: int, x: int, dy: int, dx: int) -> bool:\n",
    "    '''\n",
    "    Checks if adding one more obstacle will cause a loop. \n",
    "    Done when running into a obstacle, rotates matrix until \n",
    "    going up and turning right. Then checks if corresponding\n",
    "    obstacles exist in the below row and column to the left.\n",
    "    From here the coordinates are recorded and checked to make\n",
    "    sure there is not already an obstacle, it is not visited,\n",
    "    and is not the starting square.\n",
    "    '''\n",
    "    match (dy, dx):\n",
    "        case (-1, 0):\n",
    "            r = matrix[y][x + 1:]\n",
    "            r_ind = r.index('#') if '#' in r else -1\n",
    "\n",
    "            c = [m[x - 1] for m in matrix][y + 1:]\n",
    "            c_ind = c.index('#') if '#' in c else -1\n",
    "\n",
    "        case (0, 1):\n",
    "            pass\n",
    "        case (1, 0):\n",
    "            pass\n",
    "        case (0, -1):\n",
    "            pass\n",
    "\n",
    "    return "
   ]
  },
  {
   "cell_type": "code",
   "execution_count": null,
   "metadata": {},
   "outputs": [],
   "source": [
    "visited = [[0 for _ in range(len(matrix[0]))] for _ in range(len(matrix))]\n",
    "gen = direction()\n",
    "dy, dx = next(gen)\n",
    "y, x = sy, sx\n",
    "t = 0\n",
    "while True:\n",
    "    # Check if we have exited the map\n",
    "    if (y < 0) or (x < 0) or (y >= len(matrix)) or (x >= len(matrix[0])):\n",
    "        break\n",
    "\n",
    "    # Check if next node if a block, if so change direction\n",
    "    # and check if it forms inf loop w/ additional \n",
    "    if matrix[y + dy][x + dx] == '#':\n",
    "        dy, dx = next(gen)\n",
    "        #if add_form_loop(y, x, dy, dx): \n",
    "            #t += 1\n",
    "\n",
    "    # Visit durrent node\n",
    "    visited[y][x] = 1\n",
    "\n",
    "    # Move in direction\n",
    "    y += dy\n",
    "    x += dx\n",
    "t"
   ]
  },
  {
   "cell_type": "code",
   "execution_count": null,
   "metadata": {},
   "outputs": [],
   "source": []
  }
 ],
 "metadata": {
  "kernelspec": {
   "display_name": ".venv",
   "language": "python",
   "name": "python3"
  },
  "language_info": {
   "codemirror_mode": {
    "name": "ipython",
    "version": 3
   },
   "file_extension": ".py",
   "mimetype": "text/x-python",
   "name": "python",
   "nbconvert_exporter": "python",
   "pygments_lexer": "ipython3",
   "version": "3.11.9"
  }
 },
 "nbformat": 4,
 "nbformat_minor": 2
}
