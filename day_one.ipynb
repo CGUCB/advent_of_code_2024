{
 "cells": [
  {
   "cell_type": "code",
   "execution_count": 26,
   "metadata": {},
   "outputs": [
    {
     "name": "stdout",
     "output_type": "stream",
     "text": [
      "2086478\n"
     ]
    }
   ],
   "source": [
    "# Day One\n",
    "import re\n",
    "p = '(\\d+)\\s{3}(\\d+)'\n",
    "x, y, t = [], [], 0\n",
    "\n",
    "file = open('day_one_input.txt', 'r')\n",
    "content = file.read().split('\\n')\n",
    "\n",
    "for c in content:\n",
    "    if c:\n",
    "        m = re.findall(p, c)[0]\n",
    "        x.append(int(m[0]))\n",
    "        y.append(int(m[1]))\n",
    "\n",
    "file.close()\n",
    "x, y = sorted(x), sorted(y)\n",
    "for i, j in zip(x, y):\n",
    "    t += abs(i - j)\n",
    "\n",
    "print(t)"
   ]
  },
  {
   "cell_type": "code",
   "execution_count": 28,
   "metadata": {},
   "outputs": [
    {
     "name": "stdout",
     "output_type": "stream",
     "text": [
      "24941624\n"
     ]
    }
   ],
   "source": [
    "from collections import defaultdict\n",
    "d, t1 = defaultdict(lambda : 0), 0\n",
    "for n in y:\n",
    "    d[n] += 1\n",
    "\n",
    "for n in x:\n",
    "    t1 += (n * d[n])\n",
    "\n",
    "print(t1)"
   ]
  }
 ],
 "metadata": {
  "kernelspec": {
   "display_name": ".venv",
   "language": "python",
   "name": "python3"
  },
  "language_info": {
   "codemirror_mode": {
    "name": "ipython",
    "version": 3
   },
   "file_extension": ".py",
   "mimetype": "text/x-python",
   "name": "python",
   "nbconvert_exporter": "python",
   "pygments_lexer": "ipython3",
   "version": "3.11.9"
  }
 },
 "nbformat": 4,
 "nbformat_minor": 2
}
