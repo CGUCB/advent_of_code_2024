{
 "cells": [
  {
   "cell_type": "code",
   "execution_count": 16,
   "metadata": {},
   "outputs": [],
   "source": [
    "# Day Four\n",
    "file = open('day_four_input.txt', 'r')\n",
    "content = file.read().split('\\n')\n",
    "matrix = list(map(list, content))[:-1]\n",
    "file.close() "
   ]
  },
  {
   "cell_type": "code",
   "execution_count": 17,
   "metadata": {},
   "outputs": [],
   "source": [
    "example = '''\n",
    "MMMSXXMASM\n",
    "MSAMXMSMSA\n",
    "AMXSXMAAMM\n",
    "MSAMASMSMX\n",
    "XMASAMXAMM\n",
    "XXAMMXXAMA\n",
    "SMSMSASXSS\n",
    "SAXAMASAAA\n",
    "MAMMMXMMMM\n",
    "MXMXAXMASX\n",
    "'''\n",
    "\n",
    "example_matrix = list(map(list, example.split('\\n')))[1:-1]"
   ]
  },
  {
   "cell_type": "code",
   "execution_count": 18,
   "metadata": {},
   "outputs": [
    {
     "data": {
      "text/plain": [
       "[['M', 'M', 'M', 'S', 'X', 'X', 'M', 'A', 'S', 'M'],\n",
       " ['M', 'S', 'A', 'M', 'X', 'M', 'S', 'M', 'S', 'A'],\n",
       " ['A', 'M', 'X', 'S', 'X', 'M', 'A', 'A', 'M', 'M'],\n",
       " ['M', 'S', 'A', 'M', 'A', 'S', 'M', 'S', 'M', 'X'],\n",
       " ['X', 'M', 'A', 'S', 'A', 'M', 'X', 'A', 'M', 'M'],\n",
       " ['X', 'X', 'A', 'M', 'M', 'X', 'X', 'A', 'M', 'A'],\n",
       " ['S', 'M', 'S', 'M', 'S', 'A', 'S', 'X', 'S', 'S'],\n",
       " ['S', 'A', 'X', 'A', 'M', 'A', 'S', 'A', 'A', 'A'],\n",
       " ['M', 'A', 'M', 'M', 'M', 'X', 'M', 'M', 'M', 'M'],\n",
       " ['M', 'X', 'M', 'X', 'A', 'X', 'M', 'A', 'S', 'X']]"
      ]
     },
     "execution_count": 18,
     "metadata": {},
     "output_type": "execute_result"
    }
   ],
   "source": [
    "example_matrix"
   ]
  },
  {
   "cell_type": "code",
   "execution_count": 19,
   "metadata": {},
   "outputs": [],
   "source": [
    "# Constants\n",
    "l, w, s = len(matrix), len(matrix[0]), 'XMAS'\n",
    "direct = [\n",
    "    (1, 0),\n",
    "    (-1, 0),\n",
    "    (0, 1),\n",
    "    (0, -1),\n",
    "    (1, 1),\n",
    "    (1, -1),\n",
    "    (-1, 1),\n",
    "    (-1, -1)\n",
    "]"
   ]
  },
  {
   "cell_type": "code",
   "execution_count": 20,
   "metadata": {},
   "outputs": [],
   "source": [
    "def check_candidate(c: tuple, i: int, d: tuple) -> bool:\n",
    "    '''\n",
    "    Checks the next letter of a candidate solution\n",
    "\n",
    "    INPUT:\n",
    "        c - tuple, (y, x) coordinates of where we are\n",
    "        i - int, next index to check in XMAS\n",
    "        d - tuple, direction we are traveling\n",
    "    '''\n",
    "    if i == len(s): # Base Case\n",
    "        return True\n",
    "    \n",
    "    if not ((0 <= c[0] <= (l - 1)) and (0 <= c[1] <= (w - 1))): # Valid Current Coords\n",
    "        return False\n",
    "    \n",
    "    if matrix[c[0]][c[1]] != s[i]: # Valid Current Entry\n",
    "        return False\n",
    "\n",
    "    y2, x2 = c[0] + d[0], c[1] + d[1]\n",
    "\n",
    "    return check_candidate((y2, x2), i + 1, d)"
   ]
  },
  {
   "cell_type": "code",
   "execution_count": 21,
   "metadata": {},
   "outputs": [
    {
     "data": {
      "text/plain": [
       "2500"
      ]
     },
     "execution_count": 21,
     "metadata": {},
     "output_type": "execute_result"
    }
   ],
   "source": [
    "t = 0\n",
    "for y in range(l):\n",
    "    for x in range(w):\n",
    "        if matrix[y][x] == 'X':\n",
    "            for d in direct:\n",
    "                t += check_candidate((y, x), 0, d)\n",
    "t"
   ]
  },
  {
   "cell_type": "code",
   "execution_count": 38,
   "metadata": {},
   "outputs": [],
   "source": [
    "# Top left, clockwise\n",
    "possible = [\n",
    "    'MMSS',\n",
    "    'MSSM',\n",
    "    'SMMS',\n",
    "    'SSMM'\n",
    "]\n",
    "\n",
    "def check_possible(y: int, x: int) -> bool:\n",
    "    '''\n",
    "    For a given coordinates of an 'A' within the matrix\n",
    "    will check the surrounding diagonal entries to see if\n",
    "    an X of MAS exists.\n",
    "    \n",
    "    INPUT:\n",
    "        y, x - int, coordinates of where we currently are\n",
    "    '''\n",
    "    tl, tr = matrix[y - 1][x - 1], matrix[y - 1][x + 1]\n",
    "    br, bl = matrix[y + 1][x + 1], matrix[y + 1][x - 1]\n",
    "    return tl + tr + br + bl in possible"
   ]
  },
  {
   "cell_type": "code",
   "execution_count": 39,
   "metadata": {},
   "outputs": [
    {
     "data": {
      "text/plain": [
       "1933"
      ]
     },
     "execution_count": 39,
     "metadata": {},
     "output_type": "execute_result"
    }
   ],
   "source": [
    "t2 = 0\n",
    "for y in range(1, l - 1):\n",
    "    for x in range(1, w - 1):\n",
    "        if matrix[y][x] == 'A':\n",
    "            t2 += check_possible(y, x)\n",
    "t2"
   ]
  }
 ],
 "metadata": {
  "kernelspec": {
   "display_name": ".venv",
   "language": "python",
   "name": "python3"
  },
  "language_info": {
   "codemirror_mode": {
    "name": "ipython",
    "version": 3
   },
   "file_extension": ".py",
   "mimetype": "text/x-python",
   "name": "python",
   "nbconvert_exporter": "python",
   "pygments_lexer": "ipython3",
   "version": "3.11.9"
  }
 },
 "nbformat": 4,
 "nbformat_minor": 2
}
