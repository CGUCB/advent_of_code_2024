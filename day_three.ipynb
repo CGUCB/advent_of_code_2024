{
 "cells": [
  {
   "cell_type": "code",
   "execution_count": 1,
   "metadata": {},
   "outputs": [],
   "source": [
    "# Day 3\n",
    "file = open('day_three_input.txt', 'r')\n",
    "content = file.read()\n",
    "file.close() "
   ]
  },
  {
   "cell_type": "code",
   "execution_count": 11,
   "metadata": {},
   "outputs": [
    {
     "name": "stdout",
     "output_type": "stream",
     "text": [
      "181345830\n"
     ]
    }
   ],
   "source": [
    "import re\n",
    "p = r'(mul\\((\\d{1,3}),(\\d{1,3})\\))'\n",
    "m = re.findall(p, content)\n",
    "t = sum([int(x[1]) * int(x[2]) for x in m])\n",
    "print(t)"
   ]
  },
  {
   "cell_type": "code",
   "execution_count": 15,
   "metadata": {},
   "outputs": [
    {
     "data": {
      "text/plain": [
       "98729041"
      ]
     },
     "execution_count": 15,
     "metadata": {},
     "output_type": "execute_result"
    }
   ],
   "source": [
    "p2 = r\"(mul\\((\\d{1,3}),(\\d{1,3})\\)|do\\(\\)|don't\\(\\))\"\n",
    "m2 = re.findall(p2, content)\n",
    "total, do = 0, True\n",
    "for r in m2:\n",
    "    if (r[0][0] == 'm') and do:\n",
    "        total += int(r[1]) * int(r[2])\n",
    "    else:\n",
    "        do = True if r[0] == 'do()' else False\n",
    "total"
   ]
  }
 ],
 "metadata": {
  "kernelspec": {
   "display_name": ".venv",
   "language": "python",
   "name": "python3"
  },
  "language_info": {
   "codemirror_mode": {
    "name": "ipython",
    "version": 3
   },
   "file_extension": ".py",
   "mimetype": "text/x-python",
   "name": "python",
   "nbconvert_exporter": "python",
   "pygments_lexer": "ipython3",
   "version": "3.11.9"
  }
 },
 "nbformat": 4,
 "nbformat_minor": 2
}
