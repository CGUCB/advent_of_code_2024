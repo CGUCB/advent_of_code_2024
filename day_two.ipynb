{
 "cells": [
  {
   "cell_type": "code",
   "execution_count": 56,
   "metadata": {},
   "outputs": [],
   "source": [
    "# Day Two\n",
    "x = []\n",
    "\n",
    "file = open('day_two_input.txt', 'r')\n",
    "content = file.read().split('\\n')\n",
    "for c in content:\n",
    "    if c:\n",
    "        m = c.split(' ')\n",
    "        x.append(list(map(int, m)))\n",
    "file.close() "
   ]
  },
  {
   "cell_type": "code",
   "execution_count": 57,
   "metadata": {},
   "outputs": [
    {
     "name": "stdout",
     "output_type": "stream",
     "text": [
      "606\n"
     ]
    }
   ],
   "source": [
    "def safe_seq(s: list) -> bool:\n",
    "    if len(s) == 1: return True\n",
    "    l, r = (1, 3) if s[1] > s[0] else (-3, -1)\n",
    "    for i in range(1, len(s)):\n",
    "        d = s[i] - s[i - 1]\n",
    "        if not (l <= d <= r):\n",
    "            return False\n",
    "    return True\n",
    "\n",
    "t = sum([safe_seq(p) for p in x])\n",
    "print(t)"
   ]
  },
  {
   "cell_type": "code",
   "execution_count": 58,
   "metadata": {},
   "outputs": [
    {
     "name": "stdout",
     "output_type": "stream",
     "text": [
      "644\n"
     ]
    }
   ],
   "source": [
    "def super_safe_seq(s: list) -> bool:\n",
    "    if safe_seq(s): return True\n",
    "    for i in range(len(s)):\n",
    "        if safe_seq(s[:i] + s[i + 1:]):\n",
    "            return True\n",
    "    return False\n",
    "\n",
    "t1 = sum([super_safe_seq(p) for p in x])\n",
    "print(t1)"
   ]
  }
 ],
 "metadata": {
  "kernelspec": {
   "display_name": ".venv",
   "language": "python",
   "name": "python3"
  },
  "language_info": {
   "codemirror_mode": {
    "name": "ipython",
    "version": 3
   },
   "file_extension": ".py",
   "mimetype": "text/x-python",
   "name": "python",
   "nbconvert_exporter": "python",
   "pygments_lexer": "ipython3",
   "version": "3.11.9"
  }
 },
 "nbformat": 4,
 "nbformat_minor": 2
}
