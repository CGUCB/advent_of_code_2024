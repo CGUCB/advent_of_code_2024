{
 "cells": [
  {
   "cell_type": "code",
   "execution_count": 3,
   "metadata": {},
   "outputs": [],
   "source": [
    "# Day Five\n",
    "file = open('day_five_input', 'r')\n",
    "content = file.read().split('\\n')\n",
    "file.close() "
   ]
  },
  {
   "cell_type": "code",
   "execution_count": 101,
   "metadata": {},
   "outputs": [],
   "source": [
    "from collections import defaultdict\n",
    "\n",
    "def content_to_relations(l: list) -> dict:\n",
    "    '''\n",
    "    Converts content to dictionary of relations \n",
    "    in a forwards and backwards manner\n",
    "    '''\n",
    "    f, b, stop = defaultdict(lambda : []), defaultdict(lambda : []), l.index('')\n",
    "    for s in l[:stop]:\n",
    "        x, y = list(map(int, s.split('|')))\n",
    "        f[x].append(y)\n",
    "        b[y].append(x)\n",
    "    \n",
    "    # Convert to sets for better acces preformance\n",
    "    for k, v in f.items(): f[k] = set(v)\n",
    "    for k, v in b.items(): b[k] = set(v)\n",
    "    \n",
    "    return f, b\n",
    "\n",
    "def content_to_pages(l: list) -> list:\n",
    "    '''\n",
    "    Converts content to list of integer pages\n",
    "    '''\n",
    "    r, stop = [], l.index('')\n",
    "    for s in l[stop + 1:]:\n",
    "        if len(s) > 0:\n",
    "            c = list(map(int, s.split(',')))\n",
    "            r.append(c)\n",
    "    \n",
    "    return r\n",
    "\n",
    "def check_pages(b: dict, p: list) -> bool:\n",
    "    ''' \n",
    "    Checks whether a pages ordering (p) follows\n",
    "    the page ordering rules (b) by returning T/F.\n",
    "\n",
    "    Checks from end to start and uses backwards dict\n",
    "    of relations. For each number we encounter (Y) if we\n",
    "    can ensure no Xs show up ahead of it where X->Y we \n",
    "    are valid. If X is not in from it is either behind or\n",
    "    non-existant in the ordering, which is also valid.\n",
    "    '''\n",
    "    checked = []\n",
    "    for n in p[::-1]:\n",
    "        cb = b[n]\n",
    "        if len(cb) > 0:\n",
    "            for e in cb:\n",
    "                if e in checked:\n",
    "                    return False\n",
    "        checked.append(n)\n",
    "    return True\n",
    "\n",
    "def solve(b: dict, p: list) -> int:\n",
    "    '''\n",
    "    Solves the prompted question. For all\n",
    "    valid pages, will sum their middle components\n",
    "    '''\n",
    "    t = 0\n",
    "    for o in p:\n",
    "        if check_pages(b, o):\n",
    "            t += o[(len(o) // 2)]\n",
    "    return t"
   ]
  },
  {
   "cell_type": "code",
   "execution_count": 109,
   "metadata": {},
   "outputs": [],
   "source": [
    "def fix_page(f: dict, p: list) -> list:\n",
    "    '''\n",
    "    For an incorrect page ordering, will\n",
    "    fix it according to forward dict f\n",
    "    '''\n",
    "    sp = set(p)\n",
    "    mp = sorted([(x, sp.intersection(f[x])) for x in p], key = lambda y : -len(y[1]))\n",
    "    return [x[0] for x in mp]\n",
    "\n",
    "def solve2(f: dict, b: dict, p: list) -> int:\n",
    "    ''' \n",
    "    For each incorrect entry, will correct it\n",
    "    and add the middle number to a running total\n",
    "    '''\n",
    "    t = 0\n",
    "    for o in p:\n",
    "        if not check_pages(b, o):\n",
    "            o_nu = fix_page(f, o)\n",
    "            t += o_nu[(len(o_nu) // 2)]\n",
    "    return t"
   ]
  },
  {
   "cell_type": "code",
   "execution_count": 63,
   "metadata": {},
   "outputs": [],
   "source": [
    "# Example\n",
    "ex_content = '''\n",
    "47|53\n",
    "97|13\n",
    "97|61\n",
    "97|47\n",
    "75|29\n",
    "61|13\n",
    "75|53\n",
    "29|13\n",
    "97|29\n",
    "53|29\n",
    "61|53\n",
    "97|53\n",
    "61|29\n",
    "47|13\n",
    "75|47\n",
    "97|75\n",
    "47|61\n",
    "75|61\n",
    "47|29\n",
    "75|13\n",
    "53|13\n",
    "\n",
    "75,47,61,53,29\n",
    "97,61,53,29,13\n",
    "75,29,13\n",
    "75,97,47,61,53\n",
    "61,13,29\n",
    "97,13,75,29,47\n",
    "'''.split('\\n')[1:]"
   ]
  },
  {
   "cell_type": "code",
   "execution_count": 102,
   "metadata": {},
   "outputs": [
    {
     "data": {
      "text/plain": [
       "(defaultdict(<function __main__.content_to_relations.<locals>.<lambda>()>,\n",
       "             {53: {47, 61, 75, 97},\n",
       "              13: {29, 47, 53, 61, 75, 97},\n",
       "              61: {47, 75, 97},\n",
       "              47: {75, 97},\n",
       "              29: {47, 53, 61, 75, 97},\n",
       "              75: {97}}),\n",
       " [[75, 47, 61, 53, 29],\n",
       "  [97, 61, 53, 29, 13],\n",
       "  [75, 29, 13],\n",
       "  [75, 97, 47, 61, 53],\n",
       "  [61, 13, 29],\n",
       "  [97, 13, 75, 29, 47]])"
      ]
     },
     "execution_count": 102,
     "metadata": {},
     "output_type": "execute_result"
    }
   ],
   "source": [
    "fx, bx = content_to_relations(ex_content)\n",
    "px = content_to_pages(ex_content)\n",
    "bx, px"
   ]
  },
  {
   "cell_type": "code",
   "execution_count": 65,
   "metadata": {},
   "outputs": [
    {
     "data": {
      "text/plain": [
       "143"
      ]
     },
     "execution_count": 65,
     "metadata": {},
     "output_type": "execute_result"
    }
   ],
   "source": [
    "solve(bx, px)"
   ]
  },
  {
   "cell_type": "code",
   "execution_count": 90,
   "metadata": {},
   "outputs": [
    {
     "data": {
      "text/plain": [
       "123"
      ]
     },
     "execution_count": 90,
     "metadata": {},
     "output_type": "execute_result"
    }
   ],
   "source": [
    "solve2(fx, bx, px)"
   ]
  },
  {
   "cell_type": "code",
   "execution_count": 110,
   "metadata": {},
   "outputs": [],
   "source": [
    "f, b =  content_to_relations(content)\n",
    "p = content_to_pages(content)"
   ]
  },
  {
   "cell_type": "code",
   "execution_count": 111,
   "metadata": {},
   "outputs": [
    {
     "data": {
      "text/plain": [
       "4578"
      ]
     },
     "execution_count": 111,
     "metadata": {},
     "output_type": "execute_result"
    }
   ],
   "source": [
    "solve(b, p)"
   ]
  },
  {
   "cell_type": "code",
   "execution_count": 112,
   "metadata": {},
   "outputs": [
    {
     "data": {
      "text/plain": [
       "6179"
      ]
     },
     "execution_count": 112,
     "metadata": {},
     "output_type": "execute_result"
    }
   ],
   "source": [
    "solve2(f, b, p)"
   ]
  }
 ],
 "metadata": {
  "kernelspec": {
   "display_name": ".venv",
   "language": "python",
   "name": "python3"
  },
  "language_info": {
   "codemirror_mode": {
    "name": "ipython",
    "version": 3
   },
   "file_extension": ".py",
   "mimetype": "text/x-python",
   "name": "python",
   "nbconvert_exporter": "python",
   "pygments_lexer": "ipython3",
   "version": "3.11.9"
  }
 },
 "nbformat": 4,
 "nbformat_minor": 2
}
